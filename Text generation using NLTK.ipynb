{
 "cells": [
  {
   "cell_type": "code",
   "execution_count": 1,
   "id": "ff6d16af",
   "metadata": {},
   "outputs": [
    {
     "name": "stdout",
     "output_type": "stream",
     "text": [
      "data leading of along as provides language with wrappers platform leading with such WordNet forum leading lexical , as NLP of NLTK to wrappers , of interfaces such , language with parsing human , stemming a for libraries . parsing work processing tagging and programs for WordNet processing work WordNet\n"
     ]
    }
   ],
   "source": [
    "import nltk\n",
    "import random\n",
    "\n",
    "# Sample text for training\n",
    "text = \"\"\"\n",
    "NLTK is a leading platform for building Python programs to work with human language data.\n",
    "It provides easy-to-use interfaces to over 50 corpora and lexical resources such as WordNet, \n",
    "along with a suite of text processing libraries for classification, tokenization, stemming, \n",
    "tagging, parsing, and semantic reasoning, wrappers for industrial-strength NLP libraries, \n",
    "and an active discussion forum.\n",
    "\"\"\"\n",
    "\n",
    "# Tokenize the text into words\n",
    "tokens = nltk.word_tokenize(text)\n",
    "\n",
    "# Generate text using NLTK\n",
    "def generate_text(n, seed=None):\n",
    "    if seed is not None:\n",
    "        random.seed(seed)\n",
    "    \n",
    "    generated_text = []\n",
    "    for _ in range(n):\n",
    "        # Choose a random word from the tokens\n",
    "        word = random.choice(tokens)\n",
    "        generated_text.append(word)\n",
    "    return ' '.join(generated_text)\n",
    "\n",
    "# Generate a paragraph of text\n",
    "generated_paragraph = generate_text(50, seed=42)\n",
    "print(generated_paragraph)\n"
   ]
  },
  {
   "cell_type": "code",
   "execution_count": null,
   "id": "a0b84cc7",
   "metadata": {},
   "outputs": [],
   "source": []
  }
 ],
 "metadata": {
  "kernelspec": {
   "display_name": "Python 3 (ipykernel)",
   "language": "python",
   "name": "python3"
  },
  "language_info": {
   "codemirror_mode": {
    "name": "ipython",
    "version": 3
   },
   "file_extension": ".py",
   "mimetype": "text/x-python",
   "name": "python",
   "nbconvert_exporter": "python",
   "pygments_lexer": "ipython3",
   "version": "3.11.4"
  }
 },
 "nbformat": 4,
 "nbformat_minor": 5
}
