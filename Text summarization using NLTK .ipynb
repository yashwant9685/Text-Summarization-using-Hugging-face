{
 "cells": [
  {
   "cell_type": "code",
   "execution_count": 10,
   "id": "f8123ad8",
   "metadata": {},
   "outputs": [
    {
     "name": "stdout",
     "output_type": "stream",
     "text": [
      "Diligent, reliable, and data-driven data engineer with Master of Science degree in Computer Science and 5+ years’\n",
      "experience building data models and leading database migration initiatives. Organized and detailed database architect \n",
      "able to integrate and manage SQL / NoSQL databases including Redshift, MySQL, and MongoDB, to meet growing\n",
      "data handling requirements for enterprise companies.\n"
     ]
    },
    {
     "name": "stderr",
     "output_type": "stream",
     "text": [
      "[nltk_data] Downloading package punkt to\n",
      "[nltk_data]     C:\\Users\\LENOVO\\AppData\\Roaming\\nltk_data...\n",
      "[nltk_data]   Package punkt is already up-to-date!\n",
      "[nltk_data] Downloading package stopwords to\n",
      "[nltk_data]     C:\\Users\\LENOVO\\AppData\\Roaming\\nltk_data...\n",
      "[nltk_data]   Package stopwords is already up-to-date!\n"
     ]
    }
   ],
   "source": [
    "import nltk\n",
    "from nltk.corpus import stopwords\n",
    "from nltk.tokenize import word_tokenize, sent_tokenize\n",
    "from nltk.probability import FreqDist\n",
    "\n",
    "# Download NLTK resources\n",
    "nltk.download('punkt')\n",
    "nltk.download('stopwords')\n",
    "\n",
    "def summarize_text(text, num_sentences=2):\n",
    "    # Tokenize the text into sentences\n",
    "    sentences = sent_tokenize(text)\n",
    "\n",
    "    # Tokenize the text into words\n",
    "    words = word_tokenize(text)\n",
    "\n",
    "    # Remove stopwords\n",
    "    stop_words = set(stopwords.words('english'))\n",
    "    words = [word.lower() for word in words if word.isalnum() and word.lower() not in stop_words]\n",
    "\n",
    "    # Calculate word frequency\n",
    "    freq_dist = FreqDist(words)\n",
    "\n",
    "    # Assign a score to each sentence based on word frequency\n",
    "    sentence_scores = {}\n",
    "    for sentence in sentences:\n",
    "        for word in word_tokenize(sentence.lower()):\n",
    "            if word in freq_dist:\n",
    "                if sentence not in sentence_scores:\n",
    "                    sentence_scores[sentence] = freq_dist[word]\n",
    "                else:\n",
    "                    sentence_scores[sentence] += freq_dist[word]\n",
    "\n",
    "    # Sort sentences by score in descending order\n",
    "    sorted_sentences = sorted(sentence_scores.items(), key=lambda x: x[1], reverse=True)\n",
    "\n",
    "    # Select top N sentences based on score\n",
    "    top_sentences = sorted_sentences[:num_sentences]\n",
    "\n",
    "    # Extract the sentences from the tuples\n",
    "    summary = ' '.join([sentence[0] for sentence in top_sentences])\n",
    "\n",
    "    return summary\n",
    "\n",
    "# Example text\n",
    "input_text = \"\"\"\n",
    "\n",
    "Self-motivated, organized, and efficient data engineer and analyst with relevant technology experience \n",
    "and data processing skills. Data-driven and analytical innovator with excellent problem-solving skills, \n",
    "business acumen, and passion for contributing to large-scale data ingestion and research initiatives.\n",
    "Prolific and intuitive collaborator with track record partnering with stakeholders, web developers, \n",
    "and database architects.\n",
    "Diligent, reliable, and data-driven data engineer with Master of Science degree in Computer Science and 5+ years’\n",
    "experience building data models and leading database migration initiatives. Organized and detailed database architect \n",
    "able to integrate and manage SQL / NoSQL databases including Redshift, MySQL, and MongoDB, to meet growing\n",
    "data handling requirements for enterprise companies.\n",
    "\"\"\"\n",
    "\n",
    "# Generate summary\n",
    "summary = summarize_text(input_text, num_sentences=2)\n",
    "\n",
    "# Print the summary\n",
    "print(summary)\n"
   ]
  },
  {
   "cell_type": "code",
   "execution_count": null,
   "id": "f09ca6f2",
   "metadata": {},
   "outputs": [],
   "source": []
  },
  {
   "cell_type": "code",
   "execution_count": null,
   "id": "4d46a026",
   "metadata": {},
   "outputs": [],
   "source": []
  }
 ],
 "metadata": {
  "kernelspec": {
   "display_name": "Python 3 (ipykernel)",
   "language": "python",
   "name": "python3"
  },
  "language_info": {
   "codemirror_mode": {
    "name": "ipython",
    "version": 3
   },
   "file_extension": ".py",
   "mimetype": "text/x-python",
   "name": "python",
   "nbconvert_exporter": "python",
   "pygments_lexer": "ipython3",
   "version": "3.11.4"
  }
 },
 "nbformat": 4,
 "nbformat_minor": 5
}
